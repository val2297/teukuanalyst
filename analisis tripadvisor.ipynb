{
 "cells": [
  {
   "cell_type": "markdown",
   "id": "f808d347",
   "metadata": {},
   "source": [
    "# Data analysis - Trip Advisor Restaurant data\n",
    "1. sumber dataset: https://www.kaggle.com/datasets/siddharthmandgi/tripadvisor-restaurant-recommendation-data-usa/discussion/332697\n",
    "2. project ini bertujuan untuk memperoleh wawasan dari data tersebut, serta memberikan kesimpulan dan rekomendasi sebagai data analyst"
   ]
  },
  {
   "cell_type": "markdown",
   "id": "2bc7dedd",
   "metadata": {},
   "source": [
    "# Data Cleansing"
   ]
  },
  {
   "cell_type": "code",
   "execution_count": 2,
   "id": "5faa646e",
   "metadata": {
    "scrolled": true
   },
   "outputs": [],
   "source": [
    "import pandas  as pd\n",
    "import matplotlib.pyplot as plt\n",
    "import seaborn as sns"
   ]
  },
  {
   "cell_type": "code",
   "execution_count": 3,
   "id": "8d88bd99",
   "metadata": {
    "scrolled": true
   },
   "outputs": [
    {
     "data": {
      "text/html": [
       "<div>\n",
       "<style scoped>\n",
       "    .dataframe tbody tr th:only-of-type {\n",
       "        vertical-align: middle;\n",
       "    }\n",
       "\n",
       "    .dataframe tbody tr th {\n",
       "        vertical-align: top;\n",
       "    }\n",
       "\n",
       "    .dataframe thead th {\n",
       "        text-align: right;\n",
       "    }\n",
       "</style>\n",
       "<table border=\"1\" class=\"dataframe\">\n",
       "  <thead>\n",
       "    <tr style=\"text-align: right;\">\n",
       "      <th></th>\n",
       "      <th>Name</th>\n",
       "      <th>Street Address</th>\n",
       "      <th>Location</th>\n",
       "      <th>Type</th>\n",
       "      <th>Reviews</th>\n",
       "      <th>No of Reviews</th>\n",
       "      <th>Comments</th>\n",
       "      <th>Contact Number</th>\n",
       "      <th>Trip_advisor Url</th>\n",
       "      <th>Menu</th>\n",
       "      <th>Price_Range</th>\n",
       "    </tr>\n",
       "  </thead>\n",
       "  <tbody>\n",
       "    <tr>\n",
       "      <th>0</th>\n",
       "      <td>Betty Lou's Seafood and Grill</td>\n",
       "      <td>318 Columbus Ave</td>\n",
       "      <td>San Francisco, CA 94133-3908</td>\n",
       "      <td>Seafood, Vegetarian Friendly, Vegan Options</td>\n",
       "      <td>4.5 of 5 bubbles</td>\n",
       "      <td>243 reviews</td>\n",
       "      <td>NaN</td>\n",
       "      <td>+1 415-757-0569</td>\n",
       "      <td>https://www.tripadvisor.com//Restaurant_Review...</td>\n",
       "      <td>Check The Website for a Menu</td>\n",
       "      <td>$$ - $$$</td>\n",
       "    </tr>\n",
       "    <tr>\n",
       "      <th>1</th>\n",
       "      <td>Coach House Diner</td>\n",
       "      <td>55 State Rt 4</td>\n",
       "      <td>Hackensack, NJ 07601-6337</td>\n",
       "      <td>Diner, American, Vegetarian Friendly</td>\n",
       "      <td>4 of 5 bubbles</td>\n",
       "      <td>84 reviews</td>\n",
       "      <td>Both times we were there very late, after 11 P...</td>\n",
       "      <td>+1 201-488-4999</td>\n",
       "      <td>https://www.tripadvisor.com//Restaurant_Review...</td>\n",
       "      <td>Check The Website for a Menu</td>\n",
       "      <td>$$ - $$$</td>\n",
       "    </tr>\n",
       "    <tr>\n",
       "      <th>2</th>\n",
       "      <td>Table Talk Diner</td>\n",
       "      <td>2521 South Rd Ste C</td>\n",
       "      <td>Poughkeepsie, NY 12601-5476</td>\n",
       "      <td>American, Diner, Vegetarian Friendly</td>\n",
       "      <td>4 of 5 bubbles</td>\n",
       "      <td>256 reviews</td>\n",
       "      <td>Waitress was very friendly but a little pricey...</td>\n",
       "      <td>+1 845-849-2839</td>\n",
       "      <td>https://www.tripadvisor.com//Restaurant_Review...</td>\n",
       "      <td>http://tabletalkdiner.com/menu/breakfast/</td>\n",
       "      <td>$$ - $$$</td>\n",
       "    </tr>\n",
       "    <tr>\n",
       "      <th>3</th>\n",
       "      <td>Sixty Vines</td>\n",
       "      <td>3701 Dallas Pkwy</td>\n",
       "      <td>Plano, TX 75093-7777</td>\n",
       "      <td>American, Wine Bar, Vegetarian Friendly</td>\n",
       "      <td>4.5 of 5 bubbles</td>\n",
       "      <td>235 reviews</td>\n",
       "      <td>Not sure why I went there for the second time....</td>\n",
       "      <td>+1 469-620-8463</td>\n",
       "      <td>https://www.tripadvisor.com//Restaurant_Review...</td>\n",
       "      <td>https://sixtyvines.com/menu/plano-tx/</td>\n",
       "      <td>$$ - $$$</td>\n",
       "    </tr>\n",
       "    <tr>\n",
       "      <th>4</th>\n",
       "      <td>The Clam Bar</td>\n",
       "      <td>3914 Brewerton Rd</td>\n",
       "      <td>Syracuse, NY 13212</td>\n",
       "      <td>American, Bar, Seafood</td>\n",
       "      <td>4 of 5 bubbles</td>\n",
       "      <td>285 reviews</td>\n",
       "      <td>Doesn't look like much from the outside but wa...</td>\n",
       "      <td>+1 315-458-1662</td>\n",
       "      <td>https://www.tripadvisor.com//Restaurant_Review...</td>\n",
       "      <td>Check The Website for a Menu</td>\n",
       "      <td>$$ - $$$</td>\n",
       "    </tr>\n",
       "  </tbody>\n",
       "</table>\n",
       "</div>"
      ],
      "text/plain": [
       "                            Name       Street Address  \\\n",
       "0  Betty Lou's Seafood and Grill     318 Columbus Ave   \n",
       "1              Coach House Diner        55 State Rt 4   \n",
       "2               Table Talk Diner  2521 South Rd Ste C   \n",
       "3                    Sixty Vines     3701 Dallas Pkwy   \n",
       "4                   The Clam Bar    3914 Brewerton Rd   \n",
       "\n",
       "                       Location                                          Type  \\\n",
       "0  San Francisco, CA 94133-3908   Seafood, Vegetarian Friendly, Vegan Options   \n",
       "1     Hackensack, NJ 07601-6337          Diner, American, Vegetarian Friendly   \n",
       "2   Poughkeepsie, NY 12601-5476          American, Diner, Vegetarian Friendly   \n",
       "3          Plano, TX 75093-7777       American, Wine Bar, Vegetarian Friendly   \n",
       "4            Syracuse, NY 13212                        American, Bar, Seafood   \n",
       "\n",
       "            Reviews No of Reviews  \\\n",
       "0  4.5 of 5 bubbles   243 reviews   \n",
       "1    4 of 5 bubbles    84 reviews   \n",
       "2    4 of 5 bubbles   256 reviews   \n",
       "3  4.5 of 5 bubbles   235 reviews   \n",
       "4    4 of 5 bubbles   285 reviews   \n",
       "\n",
       "                                            Comments   Contact Number  \\\n",
       "0                                                NaN  +1 415-757-0569   \n",
       "1  Both times we were there very late, after 11 P...  +1 201-488-4999   \n",
       "2  Waitress was very friendly but a little pricey...  +1 845-849-2839   \n",
       "3  Not sure why I went there for the second time....  +1 469-620-8463   \n",
       "4  Doesn't look like much from the outside but wa...  +1 315-458-1662   \n",
       "\n",
       "                                    Trip_advisor Url  \\\n",
       "0  https://www.tripadvisor.com//Restaurant_Review...   \n",
       "1  https://www.tripadvisor.com//Restaurant_Review...   \n",
       "2  https://www.tripadvisor.com//Restaurant_Review...   \n",
       "3  https://www.tripadvisor.com//Restaurant_Review...   \n",
       "4  https://www.tripadvisor.com//Restaurant_Review...   \n",
       "\n",
       "                                        Menu Price_Range  \n",
       "0               Check The Website for a Menu    $$ - $$$  \n",
       "1               Check The Website for a Menu    $$ - $$$  \n",
       "2  http://tabletalkdiner.com/menu/breakfast/    $$ - $$$  \n",
       "3      https://sixtyvines.com/menu/plano-tx/    $$ - $$$  \n",
       "4               Check The Website for a Menu    $$ - $$$  "
      ]
     },
     "execution_count": 3,
     "metadata": {},
     "output_type": "execute_result"
    }
   ],
   "source": [
    "data=pd.read_csv(\"TripAdvisor_RestauarantRecommendation.csv\")\n",
    "data.head()"
   ]
  },
  {
   "cell_type": "code",
   "execution_count": 4,
   "id": "f28a4887",
   "metadata": {
    "scrolled": true
   },
   "outputs": [],
   "source": [
    "#drop columns\n",
    "data.drop(['Comments','Contact Number','Trip_advisor Url','Menu'],axis=1, inplace=True)"
   ]
  },
  {
   "cell_type": "code",
   "execution_count": 5,
   "id": "4b2c3fff",
   "metadata": {
    "scrolled": true
   },
   "outputs": [
    {
     "data": {
      "text/plain": [
       "Name               0\n",
       "Street Address     0\n",
       "Location           0\n",
       "Type              13\n",
       "Reviews            0\n",
       "No of Reviews      0\n",
       "Price_Range        0\n",
       "dtype: int64"
      ]
     },
     "execution_count": 5,
     "metadata": {},
     "output_type": "execute_result"
    }
   ],
   "source": [
    "data.isnull().sum()"
   ]
  },
  {
   "cell_type": "code",
   "execution_count": 6,
   "id": "2b6d9ed1",
   "metadata": {
    "scrolled": true
   },
   "outputs": [],
   "source": [
    "#nilai null akan di drop karena kolom tipe akan digunakan untuk analisis\n",
    "#dropna\n",
    "data.dropna(axis=0,inplace=True)"
   ]
  },
  {
   "cell_type": "code",
   "execution_count": 7,
   "id": "bef361f0",
   "metadata": {},
   "outputs": [
    {
     "data": {
      "text/html": [
       "<div>\n",
       "<style scoped>\n",
       "    .dataframe tbody tr th:only-of-type {\n",
       "        vertical-align: middle;\n",
       "    }\n",
       "\n",
       "    .dataframe tbody tr th {\n",
       "        vertical-align: top;\n",
       "    }\n",
       "\n",
       "    .dataframe thead th {\n",
       "        text-align: right;\n",
       "    }\n",
       "</style>\n",
       "<table border=\"1\" class=\"dataframe\">\n",
       "  <thead>\n",
       "    <tr style=\"text-align: right;\">\n",
       "      <th></th>\n",
       "      <th>Name</th>\n",
       "      <th>Street Address</th>\n",
       "      <th>Location</th>\n",
       "      <th>Type</th>\n",
       "      <th>Reviews</th>\n",
       "      <th>No of Reviews</th>\n",
       "      <th>Price_Range</th>\n",
       "    </tr>\n",
       "  </thead>\n",
       "  <tbody>\n",
       "    <tr>\n",
       "      <th>0</th>\n",
       "      <td>Betty Lou's Seafood and Grill</td>\n",
       "      <td>318 Columbus Ave</td>\n",
       "      <td>San Francisco, CA 94133-3908</td>\n",
       "      <td>Seafood, Vegetarian Friendly, Vegan Options</td>\n",
       "      <td>4.5 of 5 bubbles</td>\n",
       "      <td>243 reviews</td>\n",
       "      <td>$$ - $$$</td>\n",
       "    </tr>\n",
       "    <tr>\n",
       "      <th>1</th>\n",
       "      <td>Coach House Diner</td>\n",
       "      <td>55 State Rt 4</td>\n",
       "      <td>Hackensack, NJ 07601-6337</td>\n",
       "      <td>Diner, American, Vegetarian Friendly</td>\n",
       "      <td>4 of 5 bubbles</td>\n",
       "      <td>84 reviews</td>\n",
       "      <td>$$ - $$$</td>\n",
       "    </tr>\n",
       "    <tr>\n",
       "      <th>2</th>\n",
       "      <td>Table Talk Diner</td>\n",
       "      <td>2521 South Rd Ste C</td>\n",
       "      <td>Poughkeepsie, NY 12601-5476</td>\n",
       "      <td>American, Diner, Vegetarian Friendly</td>\n",
       "      <td>4 of 5 bubbles</td>\n",
       "      <td>256 reviews</td>\n",
       "      <td>$$ - $$$</td>\n",
       "    </tr>\n",
       "    <tr>\n",
       "      <th>3</th>\n",
       "      <td>Sixty Vines</td>\n",
       "      <td>3701 Dallas Pkwy</td>\n",
       "      <td>Plano, TX 75093-7777</td>\n",
       "      <td>American, Wine Bar, Vegetarian Friendly</td>\n",
       "      <td>4.5 of 5 bubbles</td>\n",
       "      <td>235 reviews</td>\n",
       "      <td>$$ - $$$</td>\n",
       "    </tr>\n",
       "    <tr>\n",
       "      <th>4</th>\n",
       "      <td>The Clam Bar</td>\n",
       "      <td>3914 Brewerton Rd</td>\n",
       "      <td>Syracuse, NY 13212</td>\n",
       "      <td>American, Bar, Seafood</td>\n",
       "      <td>4 of 5 bubbles</td>\n",
       "      <td>285 reviews</td>\n",
       "      <td>$$ - $$$</td>\n",
       "    </tr>\n",
       "    <tr>\n",
       "      <th>...</th>\n",
       "      <td>...</td>\n",
       "      <td>...</td>\n",
       "      <td>...</td>\n",
       "      <td>...</td>\n",
       "      <td>...</td>\n",
       "      <td>...</td>\n",
       "      <td>...</td>\n",
       "    </tr>\n",
       "    <tr>\n",
       "      <th>3044</th>\n",
       "      <td>Indigo Kitchen &amp; Ale House</td>\n",
       "      <td>2902 164th St SW</td>\n",
       "      <td>Lynnwood, WA 98087-3201</td>\n",
       "      <td>American, Bar, Vegetarian Friendly</td>\n",
       "      <td>4.5 of 5 bubbles</td>\n",
       "      <td>198 reviews</td>\n",
       "      <td>$$ - $$$</td>\n",
       "    </tr>\n",
       "    <tr>\n",
       "      <th>3045</th>\n",
       "      <td>City Vineyard</td>\n",
       "      <td>233 West Street</td>\n",
       "      <td>New York City, NY 10013</td>\n",
       "      <td>American, Bar, Seafood</td>\n",
       "      <td>4.5 of 5 bubbles</td>\n",
       "      <td>374 reviews</td>\n",
       "      <td>$$ - $$$</td>\n",
       "    </tr>\n",
       "    <tr>\n",
       "      <th>3046</th>\n",
       "      <td>BRIO Tuscan Grille</td>\n",
       "      <td>3710 US Highway 9</td>\n",
       "      <td>Freehold, NJ 07728-4801</td>\n",
       "      <td>Steakhouse, Italian, Bar</td>\n",
       "      <td>4 of 5 bubbles</td>\n",
       "      <td>211 reviews</td>\n",
       "      <td>$$ - $$$</td>\n",
       "    </tr>\n",
       "    <tr>\n",
       "      <th>3047</th>\n",
       "      <td>Maywood Pancake house</td>\n",
       "      <td>92 W Pleasant Ave</td>\n",
       "      <td>Maywood, NJ 07607-1336</td>\n",
       "      <td>American, Vegan Options, Gluten Free Options</td>\n",
       "      <td>4 of 5 bubbles</td>\n",
       "      <td>87 reviews</td>\n",
       "      <td>$$ - $$$</td>\n",
       "    </tr>\n",
       "    <tr>\n",
       "      <th>3048</th>\n",
       "      <td>Porto Leggero</td>\n",
       "      <td>Harborside Financial Center - Plaza 5</td>\n",
       "      <td>Jersey City, NJ 07311</td>\n",
       "      <td>Italian, Vegetarian Friendly, Vegan Options</td>\n",
       "      <td>4.5 of 5 bubbles</td>\n",
       "      <td>183 reviews</td>\n",
       "      <td>$$$$</td>\n",
       "    </tr>\n",
       "  </tbody>\n",
       "</table>\n",
       "<p>3049 rows × 7 columns</p>\n",
       "</div>"
      ],
      "text/plain": [
       "                               Name                         Street Address  \\\n",
       "0     Betty Lou's Seafood and Grill                       318 Columbus Ave   \n",
       "1                 Coach House Diner                          55 State Rt 4   \n",
       "2                  Table Talk Diner                    2521 South Rd Ste C   \n",
       "3                       Sixty Vines                       3701 Dallas Pkwy   \n",
       "4                      The Clam Bar                      3914 Brewerton Rd   \n",
       "...                             ...                                    ...   \n",
       "3044     Indigo Kitchen & Ale House                       2902 164th St SW   \n",
       "3045                  City Vineyard                        233 West Street   \n",
       "3046             BRIO Tuscan Grille                      3710 US Highway 9   \n",
       "3047          Maywood Pancake house                      92 W Pleasant Ave   \n",
       "3048                  Porto Leggero  Harborside Financial Center - Plaza 5   \n",
       "\n",
       "                          Location  \\\n",
       "0     San Francisco, CA 94133-3908   \n",
       "1        Hackensack, NJ 07601-6337   \n",
       "2      Poughkeepsie, NY 12601-5476   \n",
       "3             Plano, TX 75093-7777   \n",
       "4               Syracuse, NY 13212   \n",
       "...                            ...   \n",
       "3044       Lynnwood, WA 98087-3201   \n",
       "3045       New York City, NY 10013   \n",
       "3046       Freehold, NJ 07728-4801   \n",
       "3047        Maywood, NJ 07607-1336   \n",
       "3048         Jersey City, NJ 07311   \n",
       "\n",
       "                                               Type           Reviews  \\\n",
       "0       Seafood, Vegetarian Friendly, Vegan Options  4.5 of 5 bubbles   \n",
       "1              Diner, American, Vegetarian Friendly    4 of 5 bubbles   \n",
       "2              American, Diner, Vegetarian Friendly    4 of 5 bubbles   \n",
       "3           American, Wine Bar, Vegetarian Friendly  4.5 of 5 bubbles   \n",
       "4                            American, Bar, Seafood    4 of 5 bubbles   \n",
       "...                                             ...               ...   \n",
       "3044             American, Bar, Vegetarian Friendly  4.5 of 5 bubbles   \n",
       "3045                         American, Bar, Seafood  4.5 of 5 bubbles   \n",
       "3046                       Steakhouse, Italian, Bar    4 of 5 bubbles   \n",
       "3047   American, Vegan Options, Gluten Free Options    4 of 5 bubbles   \n",
       "3048    Italian, Vegetarian Friendly, Vegan Options  4.5 of 5 bubbles   \n",
       "\n",
       "     No of Reviews Price_Range  \n",
       "0      243 reviews    $$ - $$$  \n",
       "1       84 reviews    $$ - $$$  \n",
       "2      256 reviews    $$ - $$$  \n",
       "3      235 reviews    $$ - $$$  \n",
       "4      285 reviews    $$ - $$$  \n",
       "...            ...         ...  \n",
       "3044   198 reviews    $$ - $$$  \n",
       "3045   374 reviews    $$ - $$$  \n",
       "3046   211 reviews    $$ - $$$  \n",
       "3047    87 reviews    $$ - $$$  \n",
       "3048   183 reviews        $$$$  \n",
       "\n",
       "[3049 rows x 7 columns]"
      ]
     },
     "execution_count": 7,
     "metadata": {},
     "output_type": "execute_result"
    }
   ],
   "source": [
    "data.reset_index(drop=True)"
   ]
  },
  {
   "cell_type": "code",
   "execution_count": 8,
   "id": "493f7f76",
   "metadata": {
    "scrolled": true
   },
   "outputs": [
    {
     "name": "stdout",
     "output_type": "stream",
     "text": [
      "<class 'pandas.core.frame.DataFrame'>\n",
      "Int64Index: 3049 entries, 0 to 3061\n",
      "Data columns (total 7 columns):\n",
      " #   Column          Non-Null Count  Dtype \n",
      "---  ------          --------------  ----- \n",
      " 0   Name            3049 non-null   object\n",
      " 1   Street Address  3049 non-null   object\n",
      " 2   Location        3049 non-null   object\n",
      " 3   Type            3049 non-null   object\n",
      " 4   Reviews         3049 non-null   object\n",
      " 5   No of Reviews   3049 non-null   object\n",
      " 6   Price_Range     3049 non-null   object\n",
      "dtypes: object(7)\n",
      "memory usage: 190.6+ KB\n"
     ]
    }
   ],
   "source": [
    "data.info()"
   ]
  },
  {
   "cell_type": "code",
   "execution_count": 9,
   "id": "d2ff8ba8",
   "metadata": {
    "scrolled": true
   },
   "outputs": [
    {
     "name": "stderr",
     "output_type": "stream",
     "text": [
      "C:\\Users\\zibran\\AppData\\Local\\Temp\\ipykernel_9256\\907763260.py:2: FutureWarning: In a future version of pandas all arguments of StringMethods.split except for the argument 'pat' will be keyword-only.\n",
      "  data[['City','kota']]=data['Location'].str.split(\", \",1,expand=True)\n",
      "C:\\Users\\zibran\\AppData\\Local\\Temp\\ipykernel_9256\\907763260.py:3: FutureWarning: In a future version of pandas all arguments of StringMethods.split except for the argument 'pat' will be keyword-only.\n",
      "  data[['state','zip_code']]=data['kota'].str.split(\" \",1,expand=True)\n"
     ]
    },
    {
     "data": {
      "text/html": [
       "<div>\n",
       "<style scoped>\n",
       "    .dataframe tbody tr th:only-of-type {\n",
       "        vertical-align: middle;\n",
       "    }\n",
       "\n",
       "    .dataframe tbody tr th {\n",
       "        vertical-align: top;\n",
       "    }\n",
       "\n",
       "    .dataframe thead th {\n",
       "        text-align: right;\n",
       "    }\n",
       "</style>\n",
       "<table border=\"1\" class=\"dataframe\">\n",
       "  <thead>\n",
       "    <tr style=\"text-align: right;\">\n",
       "      <th></th>\n",
       "      <th>Name</th>\n",
       "      <th>Street Address</th>\n",
       "      <th>Type</th>\n",
       "      <th>Reviews</th>\n",
       "      <th>No of Reviews</th>\n",
       "      <th>Price_Range</th>\n",
       "      <th>City</th>\n",
       "      <th>state</th>\n",
       "      <th>zip_code</th>\n",
       "    </tr>\n",
       "  </thead>\n",
       "  <tbody>\n",
       "    <tr>\n",
       "      <th>0</th>\n",
       "      <td>Betty Lou's Seafood and Grill</td>\n",
       "      <td>318 Columbus Ave</td>\n",
       "      <td>Seafood, Vegetarian Friendly, Vegan Options</td>\n",
       "      <td>4.5 of 5 bubbles</td>\n",
       "      <td>243 reviews</td>\n",
       "      <td>$$ - $$$</td>\n",
       "      <td>San Francisco</td>\n",
       "      <td>CA</td>\n",
       "      <td>94133-3908</td>\n",
       "    </tr>\n",
       "    <tr>\n",
       "      <th>1</th>\n",
       "      <td>Coach House Diner</td>\n",
       "      <td>55 State Rt 4</td>\n",
       "      <td>Diner, American, Vegetarian Friendly</td>\n",
       "      <td>4 of 5 bubbles</td>\n",
       "      <td>84 reviews</td>\n",
       "      <td>$$ - $$$</td>\n",
       "      <td>Hackensack</td>\n",
       "      <td>NJ</td>\n",
       "      <td>07601-6337</td>\n",
       "    </tr>\n",
       "    <tr>\n",
       "      <th>2</th>\n",
       "      <td>Table Talk Diner</td>\n",
       "      <td>2521 South Rd Ste C</td>\n",
       "      <td>American, Diner, Vegetarian Friendly</td>\n",
       "      <td>4 of 5 bubbles</td>\n",
       "      <td>256 reviews</td>\n",
       "      <td>$$ - $$$</td>\n",
       "      <td>Poughkeepsie</td>\n",
       "      <td>NY</td>\n",
       "      <td>12601-5476</td>\n",
       "    </tr>\n",
       "    <tr>\n",
       "      <th>3</th>\n",
       "      <td>Sixty Vines</td>\n",
       "      <td>3701 Dallas Pkwy</td>\n",
       "      <td>American, Wine Bar, Vegetarian Friendly</td>\n",
       "      <td>4.5 of 5 bubbles</td>\n",
       "      <td>235 reviews</td>\n",
       "      <td>$$ - $$$</td>\n",
       "      <td>Plano</td>\n",
       "      <td>TX</td>\n",
       "      <td>75093-7777</td>\n",
       "    </tr>\n",
       "    <tr>\n",
       "      <th>4</th>\n",
       "      <td>The Clam Bar</td>\n",
       "      <td>3914 Brewerton Rd</td>\n",
       "      <td>American, Bar, Seafood</td>\n",
       "      <td>4 of 5 bubbles</td>\n",
       "      <td>285 reviews</td>\n",
       "      <td>$$ - $$$</td>\n",
       "      <td>Syracuse</td>\n",
       "      <td>NY</td>\n",
       "      <td>13212</td>\n",
       "    </tr>\n",
       "    <tr>\n",
       "      <th>...</th>\n",
       "      <td>...</td>\n",
       "      <td>...</td>\n",
       "      <td>...</td>\n",
       "      <td>...</td>\n",
       "      <td>...</td>\n",
       "      <td>...</td>\n",
       "      <td>...</td>\n",
       "      <td>...</td>\n",
       "      <td>...</td>\n",
       "    </tr>\n",
       "    <tr>\n",
       "      <th>3057</th>\n",
       "      <td>Indigo Kitchen &amp; Ale House</td>\n",
       "      <td>2902 164th St SW</td>\n",
       "      <td>American, Bar, Vegetarian Friendly</td>\n",
       "      <td>4.5 of 5 bubbles</td>\n",
       "      <td>198 reviews</td>\n",
       "      <td>$$ - $$$</td>\n",
       "      <td>Lynnwood</td>\n",
       "      <td>WA</td>\n",
       "      <td>98087-3201</td>\n",
       "    </tr>\n",
       "    <tr>\n",
       "      <th>3058</th>\n",
       "      <td>City Vineyard</td>\n",
       "      <td>233 West Street</td>\n",
       "      <td>American, Bar, Seafood</td>\n",
       "      <td>4.5 of 5 bubbles</td>\n",
       "      <td>374 reviews</td>\n",
       "      <td>$$ - $$$</td>\n",
       "      <td>New York City</td>\n",
       "      <td>NY</td>\n",
       "      <td>10013</td>\n",
       "    </tr>\n",
       "    <tr>\n",
       "      <th>3059</th>\n",
       "      <td>BRIO Tuscan Grille</td>\n",
       "      <td>3710 US Highway 9</td>\n",
       "      <td>Steakhouse, Italian, Bar</td>\n",
       "      <td>4 of 5 bubbles</td>\n",
       "      <td>211 reviews</td>\n",
       "      <td>$$ - $$$</td>\n",
       "      <td>Freehold</td>\n",
       "      <td>NJ</td>\n",
       "      <td>07728-4801</td>\n",
       "    </tr>\n",
       "    <tr>\n",
       "      <th>3060</th>\n",
       "      <td>Maywood Pancake house</td>\n",
       "      <td>92 W Pleasant Ave</td>\n",
       "      <td>American, Vegan Options, Gluten Free Options</td>\n",
       "      <td>4 of 5 bubbles</td>\n",
       "      <td>87 reviews</td>\n",
       "      <td>$$ - $$$</td>\n",
       "      <td>Maywood</td>\n",
       "      <td>NJ</td>\n",
       "      <td>07607-1336</td>\n",
       "    </tr>\n",
       "    <tr>\n",
       "      <th>3061</th>\n",
       "      <td>Porto Leggero</td>\n",
       "      <td>Harborside Financial Center - Plaza 5</td>\n",
       "      <td>Italian, Vegetarian Friendly, Vegan Options</td>\n",
       "      <td>4.5 of 5 bubbles</td>\n",
       "      <td>183 reviews</td>\n",
       "      <td>$$$$</td>\n",
       "      <td>Jersey City</td>\n",
       "      <td>NJ</td>\n",
       "      <td>07311</td>\n",
       "    </tr>\n",
       "  </tbody>\n",
       "</table>\n",
       "<p>3049 rows × 9 columns</p>\n",
       "</div>"
      ],
      "text/plain": [
       "                               Name                         Street Address  \\\n",
       "0     Betty Lou's Seafood and Grill                       318 Columbus Ave   \n",
       "1                 Coach House Diner                          55 State Rt 4   \n",
       "2                  Table Talk Diner                    2521 South Rd Ste C   \n",
       "3                       Sixty Vines                       3701 Dallas Pkwy   \n",
       "4                      The Clam Bar                      3914 Brewerton Rd   \n",
       "...                             ...                                    ...   \n",
       "3057     Indigo Kitchen & Ale House                       2902 164th St SW   \n",
       "3058                  City Vineyard                        233 West Street   \n",
       "3059             BRIO Tuscan Grille                      3710 US Highway 9   \n",
       "3060          Maywood Pancake house                      92 W Pleasant Ave   \n",
       "3061                  Porto Leggero  Harborside Financial Center - Plaza 5   \n",
       "\n",
       "                                               Type           Reviews  \\\n",
       "0       Seafood, Vegetarian Friendly, Vegan Options  4.5 of 5 bubbles   \n",
       "1              Diner, American, Vegetarian Friendly    4 of 5 bubbles   \n",
       "2              American, Diner, Vegetarian Friendly    4 of 5 bubbles   \n",
       "3           American, Wine Bar, Vegetarian Friendly  4.5 of 5 bubbles   \n",
       "4                            American, Bar, Seafood    4 of 5 bubbles   \n",
       "...                                             ...               ...   \n",
       "3057             American, Bar, Vegetarian Friendly  4.5 of 5 bubbles   \n",
       "3058                         American, Bar, Seafood  4.5 of 5 bubbles   \n",
       "3059                       Steakhouse, Italian, Bar    4 of 5 bubbles   \n",
       "3060   American, Vegan Options, Gluten Free Options    4 of 5 bubbles   \n",
       "3061    Italian, Vegetarian Friendly, Vegan Options  4.5 of 5 bubbles   \n",
       "\n",
       "     No of Reviews Price_Range           City state    zip_code  \n",
       "0      243 reviews    $$ - $$$  San Francisco    CA  94133-3908  \n",
       "1       84 reviews    $$ - $$$     Hackensack    NJ  07601-6337  \n",
       "2      256 reviews    $$ - $$$   Poughkeepsie    NY  12601-5476  \n",
       "3      235 reviews    $$ - $$$          Plano    TX  75093-7777  \n",
       "4      285 reviews    $$ - $$$       Syracuse    NY       13212  \n",
       "...            ...         ...            ...   ...         ...  \n",
       "3057   198 reviews    $$ - $$$       Lynnwood    WA  98087-3201  \n",
       "3058   374 reviews    $$ - $$$  New York City    NY       10013  \n",
       "3059   211 reviews    $$ - $$$       Freehold    NJ  07728-4801  \n",
       "3060    87 reviews    $$ - $$$        Maywood    NJ  07607-1336  \n",
       "3061   183 reviews        $$$$    Jersey City    NJ       07311  \n",
       "\n",
       "[3049 rows x 9 columns]"
      ]
     },
     "execution_count": 9,
     "metadata": {},
     "output_type": "execute_result"
    }
   ],
   "source": [
    "#Membagi kolom location menjadi 3 kolom agar bisa dianalisis sesuai kota, dan ibukota\n",
    "data[['City','kota']]=data['Location'].str.split(\", \",1,expand=True)\n",
    "data[['state','zip_code']]=data['kota'].str.split(\" \",1,expand=True)\n",
    "data.drop(columns=['Location','kota'],inplace=True)\n",
    "data"
   ]
  },
  {
   "cell_type": "code",
   "execution_count": 10,
   "id": "d293b62a",
   "metadata": {
    "scrolled": true
   },
   "outputs": [],
   "source": [
    "#memindahkan kolom ke tengah\n",
    "data.insert(3,'City',data.pop('City'))\n",
    "data.insert(4,'state',data.pop('state'))\n",
    "data.insert(5,'zip_zode',data.pop('zip_code'))"
   ]
  },
  {
   "cell_type": "code",
   "execution_count": 11,
   "id": "db2bcbf6",
   "metadata": {
    "scrolled": true
   },
   "outputs": [
    {
     "data": {
      "text/plain": [
       "$$ - $$$    2383\n",
       "$$$$         384\n",
       "$            281\n",
       "American       1\n",
       "Name: Price_Range, dtype: int64"
      ]
     },
     "execution_count": 11,
     "metadata": {},
     "output_type": "execute_result"
    }
   ],
   "source": [
    "data['Price_Range'].value_counts()"
   ]
  },
  {
   "cell_type": "code",
   "execution_count": 12,
   "id": "20ad0fc9",
   "metadata": {
    "scrolled": true
   },
   "outputs": [
    {
     "data": {
      "text/html": [
       "<div>\n",
       "<style scoped>\n",
       "    .dataframe tbody tr th:only-of-type {\n",
       "        vertical-align: middle;\n",
       "    }\n",
       "\n",
       "    .dataframe tbody tr th {\n",
       "        vertical-align: top;\n",
       "    }\n",
       "\n",
       "    .dataframe thead th {\n",
       "        text-align: right;\n",
       "    }\n",
       "</style>\n",
       "<table border=\"1\" class=\"dataframe\">\n",
       "  <thead>\n",
       "    <tr style=\"text-align: right;\">\n",
       "      <th></th>\n",
       "      <th>Name</th>\n",
       "      <th>Street Address</th>\n",
       "      <th>Type</th>\n",
       "      <th>City</th>\n",
       "      <th>state</th>\n",
       "      <th>zip_zode</th>\n",
       "      <th>Reviews</th>\n",
       "      <th>No of Reviews</th>\n",
       "      <th>Price_Range</th>\n",
       "    </tr>\n",
       "  </thead>\n",
       "  <tbody>\n",
       "    <tr>\n",
       "      <th>1</th>\n",
       "      <td>Coach House Diner</td>\n",
       "      <td>55 State Rt 4</td>\n",
       "      <td>Diner, American, Vegetarian Friendly</td>\n",
       "      <td>Hackensack</td>\n",
       "      <td>NJ</td>\n",
       "      <td>07601-6337</td>\n",
       "      <td>4 of 5 bubbles</td>\n",
       "      <td>84 reviews</td>\n",
       "      <td>$$ - $$$</td>\n",
       "    </tr>\n",
       "    <tr>\n",
       "      <th>2</th>\n",
       "      <td>Table Talk Diner</td>\n",
       "      <td>2521 South Rd Ste C</td>\n",
       "      <td>American, Diner, Vegetarian Friendly</td>\n",
       "      <td>Poughkeepsie</td>\n",
       "      <td>NY</td>\n",
       "      <td>12601-5476</td>\n",
       "      <td>4 of 5 bubbles</td>\n",
       "      <td>256 reviews</td>\n",
       "      <td>$$ - $$$</td>\n",
       "    </tr>\n",
       "    <tr>\n",
       "      <th>3</th>\n",
       "      <td>Sixty Vines</td>\n",
       "      <td>3701 Dallas Pkwy</td>\n",
       "      <td>American, Wine Bar, Vegetarian Friendly</td>\n",
       "      <td>Plano</td>\n",
       "      <td>TX</td>\n",
       "      <td>75093-7777</td>\n",
       "      <td>4.5 of 5 bubbles</td>\n",
       "      <td>235 reviews</td>\n",
       "      <td>$$ - $$$</td>\n",
       "    </tr>\n",
       "    <tr>\n",
       "      <th>4</th>\n",
       "      <td>The Clam Bar</td>\n",
       "      <td>3914 Brewerton Rd</td>\n",
       "      <td>American, Bar, Seafood</td>\n",
       "      <td>Syracuse</td>\n",
       "      <td>NY</td>\n",
       "      <td>13212</td>\n",
       "      <td>4 of 5 bubbles</td>\n",
       "      <td>285 reviews</td>\n",
       "      <td>$$ - $$$</td>\n",
       "    </tr>\n",
       "    <tr>\n",
       "      <th>6</th>\n",
       "      <td>Black Angus Steakhouse - Federal Way</td>\n",
       "      <td>2400 S 320th St</td>\n",
       "      <td>American, Steakhouse, Bar</td>\n",
       "      <td>Federal Way</td>\n",
       "      <td>WA</td>\n",
       "      <td>98003-5465</td>\n",
       "      <td>4 of 5 bubbles</td>\n",
       "      <td>220 reviews</td>\n",
       "      <td>$$ - $$$</td>\n",
       "    </tr>\n",
       "    <tr>\n",
       "      <th>...</th>\n",
       "      <td>...</td>\n",
       "      <td>...</td>\n",
       "      <td>...</td>\n",
       "      <td>...</td>\n",
       "      <td>...</td>\n",
       "      <td>...</td>\n",
       "      <td>...</td>\n",
       "      <td>...</td>\n",
       "      <td>...</td>\n",
       "    </tr>\n",
       "    <tr>\n",
       "      <th>3052</th>\n",
       "      <td>Uncle Bill's Pancake House</td>\n",
       "      <td>2112 Asbury Ave</td>\n",
       "      <td>American, Vegetarian Friendly</td>\n",
       "      <td>Ocean City</td>\n",
       "      <td>NJ</td>\n",
       "      <td>08226-2727</td>\n",
       "      <td>4 of 5 bubbles</td>\n",
       "      <td>265 reviews</td>\n",
       "      <td>$$ - $$$</td>\n",
       "    </tr>\n",
       "    <tr>\n",
       "      <th>3054</th>\n",
       "      <td>Crave Fishbar</td>\n",
       "      <td>945 2nd Ave</td>\n",
       "      <td>Seafood, American, International</td>\n",
       "      <td>New York City</td>\n",
       "      <td>NY</td>\n",
       "      <td>10022-7761</td>\n",
       "      <td>4.5 of 5 bubbles</td>\n",
       "      <td>424 reviews</td>\n",
       "      <td>$$ - $$$</td>\n",
       "    </tr>\n",
       "    <tr>\n",
       "      <th>3057</th>\n",
       "      <td>Indigo Kitchen &amp; Ale House</td>\n",
       "      <td>2902 164th St SW</td>\n",
       "      <td>American, Bar, Vegetarian Friendly</td>\n",
       "      <td>Lynnwood</td>\n",
       "      <td>WA</td>\n",
       "      <td>98087-3201</td>\n",
       "      <td>4.5 of 5 bubbles</td>\n",
       "      <td>198 reviews</td>\n",
       "      <td>$$ - $$$</td>\n",
       "    </tr>\n",
       "    <tr>\n",
       "      <th>3058</th>\n",
       "      <td>City Vineyard</td>\n",
       "      <td>233 West Street</td>\n",
       "      <td>American, Bar, Seafood</td>\n",
       "      <td>New York City</td>\n",
       "      <td>NY</td>\n",
       "      <td>10013</td>\n",
       "      <td>4.5 of 5 bubbles</td>\n",
       "      <td>374 reviews</td>\n",
       "      <td>$$ - $$$</td>\n",
       "    </tr>\n",
       "    <tr>\n",
       "      <th>3060</th>\n",
       "      <td>Maywood Pancake house</td>\n",
       "      <td>92 W Pleasant Ave</td>\n",
       "      <td>American, Vegan Options, Gluten Free Options</td>\n",
       "      <td>Maywood</td>\n",
       "      <td>NJ</td>\n",
       "      <td>07607-1336</td>\n",
       "      <td>4 of 5 bubbles</td>\n",
       "      <td>87 reviews</td>\n",
       "      <td>$$ - $$$</td>\n",
       "    </tr>\n",
       "  </tbody>\n",
       "</table>\n",
       "<p>1574 rows × 9 columns</p>\n",
       "</div>"
      ],
      "text/plain": [
       "                                      Name       Street Address  \\\n",
       "1                        Coach House Diner        55 State Rt 4   \n",
       "2                         Table Talk Diner  2521 South Rd Ste C   \n",
       "3                              Sixty Vines     3701 Dallas Pkwy   \n",
       "4                             The Clam Bar    3914 Brewerton Rd   \n",
       "6     Black Angus Steakhouse - Federal Way      2400 S 320th St   \n",
       "...                                    ...                  ...   \n",
       "3052            Uncle Bill's Pancake House      2112 Asbury Ave   \n",
       "3054                         Crave Fishbar          945 2nd Ave   \n",
       "3057            Indigo Kitchen & Ale House     2902 164th St SW   \n",
       "3058                         City Vineyard      233 West Street   \n",
       "3060                 Maywood Pancake house    92 W Pleasant Ave   \n",
       "\n",
       "                                               Type           City state  \\\n",
       "1              Diner, American, Vegetarian Friendly     Hackensack    NJ   \n",
       "2              American, Diner, Vegetarian Friendly   Poughkeepsie    NY   \n",
       "3           American, Wine Bar, Vegetarian Friendly          Plano    TX   \n",
       "4                            American, Bar, Seafood       Syracuse    NY   \n",
       "6                         American, Steakhouse, Bar    Federal Way    WA   \n",
       "...                                             ...            ...   ...   \n",
       "3052                  American, Vegetarian Friendly     Ocean City    NJ   \n",
       "3054               Seafood, American, International  New York City    NY   \n",
       "3057             American, Bar, Vegetarian Friendly       Lynnwood    WA   \n",
       "3058                         American, Bar, Seafood  New York City    NY   \n",
       "3060   American, Vegan Options, Gluten Free Options        Maywood    NJ   \n",
       "\n",
       "        zip_zode           Reviews No of Reviews Price_Range  \n",
       "1     07601-6337    4 of 5 bubbles    84 reviews    $$ - $$$  \n",
       "2     12601-5476    4 of 5 bubbles   256 reviews    $$ - $$$  \n",
       "3     75093-7777  4.5 of 5 bubbles   235 reviews    $$ - $$$  \n",
       "4          13212    4 of 5 bubbles   285 reviews    $$ - $$$  \n",
       "6     98003-5465    4 of 5 bubbles   220 reviews    $$ - $$$  \n",
       "...          ...               ...           ...         ...  \n",
       "3052  08226-2727    4 of 5 bubbles   265 reviews    $$ - $$$  \n",
       "3054  10022-7761  4.5 of 5 bubbles   424 reviews    $$ - $$$  \n",
       "3057  98087-3201  4.5 of 5 bubbles   198 reviews    $$ - $$$  \n",
       "3058       10013  4.5 of 5 bubbles   374 reviews    $$ - $$$  \n",
       "3060  07607-1336    4 of 5 bubbles    87 reviews    $$ - $$$  \n",
       "\n",
       "[1574 rows x 9 columns]"
      ]
     },
     "execution_count": 12,
     "metadata": {},
     "output_type": "execute_result"
    }
   ],
   "source": [
    "#Terdapat 'american' di kolom price_range maka nilai tersebut akan dimasukkan  sesuai harga tipenya \n",
    "#mencari nilai American\n",
    "con_american=data[data['Type'].str.contains('American')]\n",
    "con_american"
   ]
  },
  {
   "cell_type": "code",
   "execution_count": 13,
   "id": "8279c282",
   "metadata": {
    "scrolled": true
   },
   "outputs": [],
   "source": [
    "data['Price_Range']=data['Price_Range'].replace('American','$')"
   ]
  },
  {
   "cell_type": "code",
   "execution_count": 14,
   "id": "e7100321",
   "metadata": {
    "scrolled": true
   },
   "outputs": [
    {
     "data": {
      "text/plain": [
       "$$ - $$$    2383\n",
       "$$$$         384\n",
       "$            282\n",
       "Name: Price_Range, dtype: int64"
      ]
     },
     "execution_count": 14,
     "metadata": {},
     "output_type": "execute_result"
    }
   ],
   "source": [
    "data['Price_Range'].value_counts()"
   ]
  },
  {
   "cell_type": "raw",
   "id": "d9d466bc",
   "metadata": {},
   "source": [
    "Mengubah simbol kategorik menjadi deskriptif agar lebih jelas"
   ]
  },
  {
   "cell_type": "code",
   "execution_count": 15,
   "id": "41615bbd",
   "metadata": {
    "scrolled": true
   },
   "outputs": [],
   "source": [
    "data['Price_Range']=data['Price_Range'].replace('$$ - $$$','Moderate')\n",
    "data['Price_Range']=data['Price_Range'].replace('$$$$','Expensive')\n",
    "data['Price_Range']=data['Price_Range'].replace('$','Cheap')"
   ]
  },
  {
   "cell_type": "code",
   "execution_count": 16,
   "id": "f7cca523",
   "metadata": {
    "scrolled": true
   },
   "outputs": [
    {
     "data": {
      "text/plain": [
       "Moderate     2383\n",
       "Expensive     384\n",
       "Cheap         282\n",
       "Name: Price_Range, dtype: int64"
      ]
     },
     "execution_count": 16,
     "metadata": {},
     "output_type": "execute_result"
    }
   ],
   "source": [
    "data['Price_Range'].value_counts()"
   ]
  },
  {
   "cell_type": "code",
   "execution_count": 17,
   "id": "0999df69",
   "metadata": {
    "scrolled": true
   },
   "outputs": [],
   "source": [
    "#Mengubah tipe kolom reviews dan No of Reviews menjadi integer\n",
    "data['Reviews']=[float(text.split()[0]) for text in data['Reviews']]"
   ]
  },
  {
   "cell_type": "code",
   "execution_count": 18,
   "id": "ee371abd",
   "metadata": {
    "scrolled": true
   },
   "outputs": [
    {
     "data": {
      "text/html": [
       "<div>\n",
       "<style scoped>\n",
       "    .dataframe tbody tr th:only-of-type {\n",
       "        vertical-align: middle;\n",
       "    }\n",
       "\n",
       "    .dataframe tbody tr th {\n",
       "        vertical-align: top;\n",
       "    }\n",
       "\n",
       "    .dataframe thead th {\n",
       "        text-align: right;\n",
       "    }\n",
       "</style>\n",
       "<table border=\"1\" class=\"dataframe\">\n",
       "  <thead>\n",
       "    <tr style=\"text-align: right;\">\n",
       "      <th></th>\n",
       "      <th>Name</th>\n",
       "      <th>Street Address</th>\n",
       "      <th>Type</th>\n",
       "      <th>City</th>\n",
       "      <th>state</th>\n",
       "      <th>zip_zode</th>\n",
       "      <th>Reviews</th>\n",
       "      <th>No of Reviews</th>\n",
       "      <th>Price_Range</th>\n",
       "    </tr>\n",
       "  </thead>\n",
       "  <tbody>\n",
       "    <tr>\n",
       "      <th>0</th>\n",
       "      <td>Betty Lou's Seafood and Grill</td>\n",
       "      <td>318 Columbus Ave</td>\n",
       "      <td>Seafood, Vegetarian Friendly, Vegan Options</td>\n",
       "      <td>San Francisco</td>\n",
       "      <td>CA</td>\n",
       "      <td>94133-3908</td>\n",
       "      <td>4.5</td>\n",
       "      <td>243</td>\n",
       "      <td>Moderate</td>\n",
       "    </tr>\n",
       "    <tr>\n",
       "      <th>1</th>\n",
       "      <td>Coach House Diner</td>\n",
       "      <td>55 State Rt 4</td>\n",
       "      <td>Diner, American, Vegetarian Friendly</td>\n",
       "      <td>Hackensack</td>\n",
       "      <td>NJ</td>\n",
       "      <td>07601-6337</td>\n",
       "      <td>4.0</td>\n",
       "      <td>84</td>\n",
       "      <td>Moderate</td>\n",
       "    </tr>\n",
       "    <tr>\n",
       "      <th>2</th>\n",
       "      <td>Table Talk Diner</td>\n",
       "      <td>2521 South Rd Ste C</td>\n",
       "      <td>American, Diner, Vegetarian Friendly</td>\n",
       "      <td>Poughkeepsie</td>\n",
       "      <td>NY</td>\n",
       "      <td>12601-5476</td>\n",
       "      <td>4.0</td>\n",
       "      <td>256</td>\n",
       "      <td>Moderate</td>\n",
       "    </tr>\n",
       "    <tr>\n",
       "      <th>3</th>\n",
       "      <td>Sixty Vines</td>\n",
       "      <td>3701 Dallas Pkwy</td>\n",
       "      <td>American, Wine Bar, Vegetarian Friendly</td>\n",
       "      <td>Plano</td>\n",
       "      <td>TX</td>\n",
       "      <td>75093-7777</td>\n",
       "      <td>4.5</td>\n",
       "      <td>235</td>\n",
       "      <td>Moderate</td>\n",
       "    </tr>\n",
       "    <tr>\n",
       "      <th>4</th>\n",
       "      <td>The Clam Bar</td>\n",
       "      <td>3914 Brewerton Rd</td>\n",
       "      <td>American, Bar, Seafood</td>\n",
       "      <td>Syracuse</td>\n",
       "      <td>NY</td>\n",
       "      <td>13212</td>\n",
       "      <td>4.0</td>\n",
       "      <td>285</td>\n",
       "      <td>Moderate</td>\n",
       "    </tr>\n",
       "    <tr>\n",
       "      <th>...</th>\n",
       "      <td>...</td>\n",
       "      <td>...</td>\n",
       "      <td>...</td>\n",
       "      <td>...</td>\n",
       "      <td>...</td>\n",
       "      <td>...</td>\n",
       "      <td>...</td>\n",
       "      <td>...</td>\n",
       "      <td>...</td>\n",
       "    </tr>\n",
       "    <tr>\n",
       "      <th>3057</th>\n",
       "      <td>Indigo Kitchen &amp; Ale House</td>\n",
       "      <td>2902 164th St SW</td>\n",
       "      <td>American, Bar, Vegetarian Friendly</td>\n",
       "      <td>Lynnwood</td>\n",
       "      <td>WA</td>\n",
       "      <td>98087-3201</td>\n",
       "      <td>4.5</td>\n",
       "      <td>198</td>\n",
       "      <td>Moderate</td>\n",
       "    </tr>\n",
       "    <tr>\n",
       "      <th>3058</th>\n",
       "      <td>City Vineyard</td>\n",
       "      <td>233 West Street</td>\n",
       "      <td>American, Bar, Seafood</td>\n",
       "      <td>New York City</td>\n",
       "      <td>NY</td>\n",
       "      <td>10013</td>\n",
       "      <td>4.5</td>\n",
       "      <td>374</td>\n",
       "      <td>Moderate</td>\n",
       "    </tr>\n",
       "    <tr>\n",
       "      <th>3059</th>\n",
       "      <td>BRIO Tuscan Grille</td>\n",
       "      <td>3710 US Highway 9</td>\n",
       "      <td>Steakhouse, Italian, Bar</td>\n",
       "      <td>Freehold</td>\n",
       "      <td>NJ</td>\n",
       "      <td>07728-4801</td>\n",
       "      <td>4.0</td>\n",
       "      <td>211</td>\n",
       "      <td>Moderate</td>\n",
       "    </tr>\n",
       "    <tr>\n",
       "      <th>3060</th>\n",
       "      <td>Maywood Pancake house</td>\n",
       "      <td>92 W Pleasant Ave</td>\n",
       "      <td>American, Vegan Options, Gluten Free Options</td>\n",
       "      <td>Maywood</td>\n",
       "      <td>NJ</td>\n",
       "      <td>07607-1336</td>\n",
       "      <td>4.0</td>\n",
       "      <td>87</td>\n",
       "      <td>Moderate</td>\n",
       "    </tr>\n",
       "    <tr>\n",
       "      <th>3061</th>\n",
       "      <td>Porto Leggero</td>\n",
       "      <td>Harborside Financial Center - Plaza 5</td>\n",
       "      <td>Italian, Vegetarian Friendly, Vegan Options</td>\n",
       "      <td>Jersey City</td>\n",
       "      <td>NJ</td>\n",
       "      <td>07311</td>\n",
       "      <td>4.5</td>\n",
       "      <td>183</td>\n",
       "      <td>Expensive</td>\n",
       "    </tr>\n",
       "  </tbody>\n",
       "</table>\n",
       "<p>3049 rows × 9 columns</p>\n",
       "</div>"
      ],
      "text/plain": [
       "                               Name                         Street Address  \\\n",
       "0     Betty Lou's Seafood and Grill                       318 Columbus Ave   \n",
       "1                 Coach House Diner                          55 State Rt 4   \n",
       "2                  Table Talk Diner                    2521 South Rd Ste C   \n",
       "3                       Sixty Vines                       3701 Dallas Pkwy   \n",
       "4                      The Clam Bar                      3914 Brewerton Rd   \n",
       "...                             ...                                    ...   \n",
       "3057     Indigo Kitchen & Ale House                       2902 164th St SW   \n",
       "3058                  City Vineyard                        233 West Street   \n",
       "3059             BRIO Tuscan Grille                      3710 US Highway 9   \n",
       "3060          Maywood Pancake house                      92 W Pleasant Ave   \n",
       "3061                  Porto Leggero  Harborside Financial Center - Plaza 5   \n",
       "\n",
       "                                               Type           City state  \\\n",
       "0       Seafood, Vegetarian Friendly, Vegan Options  San Francisco    CA   \n",
       "1              Diner, American, Vegetarian Friendly     Hackensack    NJ   \n",
       "2              American, Diner, Vegetarian Friendly   Poughkeepsie    NY   \n",
       "3           American, Wine Bar, Vegetarian Friendly          Plano    TX   \n",
       "4                            American, Bar, Seafood       Syracuse    NY   \n",
       "...                                             ...            ...   ...   \n",
       "3057             American, Bar, Vegetarian Friendly       Lynnwood    WA   \n",
       "3058                         American, Bar, Seafood  New York City    NY   \n",
       "3059                       Steakhouse, Italian, Bar       Freehold    NJ   \n",
       "3060   American, Vegan Options, Gluten Free Options        Maywood    NJ   \n",
       "3061    Italian, Vegetarian Friendly, Vegan Options    Jersey City    NJ   \n",
       "\n",
       "        zip_zode  Reviews No of Reviews Price_Range  \n",
       "0     94133-3908      4.5          243     Moderate  \n",
       "1     07601-6337      4.0           84     Moderate  \n",
       "2     12601-5476      4.0          256     Moderate  \n",
       "3     75093-7777      4.5          235     Moderate  \n",
       "4          13212      4.0          285     Moderate  \n",
       "...          ...      ...           ...         ...  \n",
       "3057  98087-3201      4.5          198     Moderate  \n",
       "3058       10013      4.5          374     Moderate  \n",
       "3059  07728-4801      4.0          211     Moderate  \n",
       "3060  07607-1336      4.0           87     Moderate  \n",
       "3061       07311      4.5          183    Expensive  \n",
       "\n",
       "[3049 rows x 9 columns]"
      ]
     },
     "execution_count": 18,
     "metadata": {},
     "output_type": "execute_result"
    }
   ],
   "source": [
    "data['No of Reviews']=data['No of Reviews'].str.replace('reviews','')\n",
    "data"
   ]
  },
  {
   "cell_type": "code",
   "execution_count": 19,
   "id": "373dc51e",
   "metadata": {
    "scrolled": true
   },
   "outputs": [
    {
     "name": "stderr",
     "output_type": "stream",
     "text": [
      "C:\\Users\\zibran\\AppData\\Local\\Temp\\ipykernel_9256\\3818643998.py:1: FutureWarning: In a future version of pandas all arguments of StringMethods.split except for the argument 'pat' will be keyword-only.\n",
      "  data[['Cuisine','Type_2']]=data['Type'].str.split(',',1,expand=True)\n"
     ]
    }
   ],
   "source": [
    "data[['Cuisine','Type_2']]=data['Type'].str.split(',',1,expand=True)"
   ]
  },
  {
   "cell_type": "code",
   "execution_count": 20,
   "id": "58f1ef4e",
   "metadata": {
    "scrolled": true
   },
   "outputs": [],
   "source": [
    "data.drop('Type_2',axis=1,inplace=True)"
   ]
  },
  {
   "cell_type": "code",
   "execution_count": 21,
   "id": "4d0d5c7c",
   "metadata": {
    "scrolled": true
   },
   "outputs": [
    {
     "data": {
      "text/html": [
       "<div>\n",
       "<style scoped>\n",
       "    .dataframe tbody tr th:only-of-type {\n",
       "        vertical-align: middle;\n",
       "    }\n",
       "\n",
       "    .dataframe tbody tr th {\n",
       "        vertical-align: top;\n",
       "    }\n",
       "\n",
       "    .dataframe thead th {\n",
       "        text-align: right;\n",
       "    }\n",
       "</style>\n",
       "<table border=\"1\" class=\"dataframe\">\n",
       "  <thead>\n",
       "    <tr style=\"text-align: right;\">\n",
       "      <th></th>\n",
       "      <th>Name</th>\n",
       "      <th>Street Address</th>\n",
       "      <th>Type</th>\n",
       "      <th>City</th>\n",
       "      <th>state</th>\n",
       "      <th>zip_zode</th>\n",
       "      <th>Reviews</th>\n",
       "      <th>No of Reviews</th>\n",
       "      <th>Price_Range</th>\n",
       "      <th>Cuisine</th>\n",
       "    </tr>\n",
       "  </thead>\n",
       "  <tbody>\n",
       "    <tr>\n",
       "      <th>0</th>\n",
       "      <td>Betty Lou's Seafood and Grill</td>\n",
       "      <td>318 Columbus Ave</td>\n",
       "      <td>Seafood, Vegetarian Friendly, Vegan Options</td>\n",
       "      <td>San Francisco</td>\n",
       "      <td>CA</td>\n",
       "      <td>94133-3908</td>\n",
       "      <td>4.5</td>\n",
       "      <td>243</td>\n",
       "      <td>Moderate</td>\n",
       "      <td>Seafood</td>\n",
       "    </tr>\n",
       "    <tr>\n",
       "      <th>1</th>\n",
       "      <td>Coach House Diner</td>\n",
       "      <td>55 State Rt 4</td>\n",
       "      <td>Diner, American, Vegetarian Friendly</td>\n",
       "      <td>Hackensack</td>\n",
       "      <td>NJ</td>\n",
       "      <td>07601-6337</td>\n",
       "      <td>4.0</td>\n",
       "      <td>84</td>\n",
       "      <td>Moderate</td>\n",
       "      <td>Diner</td>\n",
       "    </tr>\n",
       "    <tr>\n",
       "      <th>2</th>\n",
       "      <td>Table Talk Diner</td>\n",
       "      <td>2521 South Rd Ste C</td>\n",
       "      <td>American, Diner, Vegetarian Friendly</td>\n",
       "      <td>Poughkeepsie</td>\n",
       "      <td>NY</td>\n",
       "      <td>12601-5476</td>\n",
       "      <td>4.0</td>\n",
       "      <td>256</td>\n",
       "      <td>Moderate</td>\n",
       "      <td>American</td>\n",
       "    </tr>\n",
       "    <tr>\n",
       "      <th>3</th>\n",
       "      <td>Sixty Vines</td>\n",
       "      <td>3701 Dallas Pkwy</td>\n",
       "      <td>American, Wine Bar, Vegetarian Friendly</td>\n",
       "      <td>Plano</td>\n",
       "      <td>TX</td>\n",
       "      <td>75093-7777</td>\n",
       "      <td>4.5</td>\n",
       "      <td>235</td>\n",
       "      <td>Moderate</td>\n",
       "      <td>American</td>\n",
       "    </tr>\n",
       "    <tr>\n",
       "      <th>4</th>\n",
       "      <td>The Clam Bar</td>\n",
       "      <td>3914 Brewerton Rd</td>\n",
       "      <td>American, Bar, Seafood</td>\n",
       "      <td>Syracuse</td>\n",
       "      <td>NY</td>\n",
       "      <td>13212</td>\n",
       "      <td>4.0</td>\n",
       "      <td>285</td>\n",
       "      <td>Moderate</td>\n",
       "      <td>American</td>\n",
       "    </tr>\n",
       "    <tr>\n",
       "      <th>...</th>\n",
       "      <td>...</td>\n",
       "      <td>...</td>\n",
       "      <td>...</td>\n",
       "      <td>...</td>\n",
       "      <td>...</td>\n",
       "      <td>...</td>\n",
       "      <td>...</td>\n",
       "      <td>...</td>\n",
       "      <td>...</td>\n",
       "      <td>...</td>\n",
       "    </tr>\n",
       "    <tr>\n",
       "      <th>3057</th>\n",
       "      <td>Indigo Kitchen &amp; Ale House</td>\n",
       "      <td>2902 164th St SW</td>\n",
       "      <td>American, Bar, Vegetarian Friendly</td>\n",
       "      <td>Lynnwood</td>\n",
       "      <td>WA</td>\n",
       "      <td>98087-3201</td>\n",
       "      <td>4.5</td>\n",
       "      <td>198</td>\n",
       "      <td>Moderate</td>\n",
       "      <td>American</td>\n",
       "    </tr>\n",
       "    <tr>\n",
       "      <th>3058</th>\n",
       "      <td>City Vineyard</td>\n",
       "      <td>233 West Street</td>\n",
       "      <td>American, Bar, Seafood</td>\n",
       "      <td>New York City</td>\n",
       "      <td>NY</td>\n",
       "      <td>10013</td>\n",
       "      <td>4.5</td>\n",
       "      <td>374</td>\n",
       "      <td>Moderate</td>\n",
       "      <td>American</td>\n",
       "    </tr>\n",
       "    <tr>\n",
       "      <th>3059</th>\n",
       "      <td>BRIO Tuscan Grille</td>\n",
       "      <td>3710 US Highway 9</td>\n",
       "      <td>Steakhouse, Italian, Bar</td>\n",
       "      <td>Freehold</td>\n",
       "      <td>NJ</td>\n",
       "      <td>07728-4801</td>\n",
       "      <td>4.0</td>\n",
       "      <td>211</td>\n",
       "      <td>Moderate</td>\n",
       "      <td>Steakhouse</td>\n",
       "    </tr>\n",
       "    <tr>\n",
       "      <th>3060</th>\n",
       "      <td>Maywood Pancake house</td>\n",
       "      <td>92 W Pleasant Ave</td>\n",
       "      <td>American, Vegan Options, Gluten Free Options</td>\n",
       "      <td>Maywood</td>\n",
       "      <td>NJ</td>\n",
       "      <td>07607-1336</td>\n",
       "      <td>4.0</td>\n",
       "      <td>87</td>\n",
       "      <td>Moderate</td>\n",
       "      <td>American</td>\n",
       "    </tr>\n",
       "    <tr>\n",
       "      <th>3061</th>\n",
       "      <td>Porto Leggero</td>\n",
       "      <td>Harborside Financial Center - Plaza 5</td>\n",
       "      <td>Italian, Vegetarian Friendly, Vegan Options</td>\n",
       "      <td>Jersey City</td>\n",
       "      <td>NJ</td>\n",
       "      <td>07311</td>\n",
       "      <td>4.5</td>\n",
       "      <td>183</td>\n",
       "      <td>Expensive</td>\n",
       "      <td>Italian</td>\n",
       "    </tr>\n",
       "  </tbody>\n",
       "</table>\n",
       "<p>3049 rows × 10 columns</p>\n",
       "</div>"
      ],
      "text/plain": [
       "                               Name                         Street Address  \\\n",
       "0     Betty Lou's Seafood and Grill                       318 Columbus Ave   \n",
       "1                 Coach House Diner                          55 State Rt 4   \n",
       "2                  Table Talk Diner                    2521 South Rd Ste C   \n",
       "3                       Sixty Vines                       3701 Dallas Pkwy   \n",
       "4                      The Clam Bar                      3914 Brewerton Rd   \n",
       "...                             ...                                    ...   \n",
       "3057     Indigo Kitchen & Ale House                       2902 164th St SW   \n",
       "3058                  City Vineyard                        233 West Street   \n",
       "3059             BRIO Tuscan Grille                      3710 US Highway 9   \n",
       "3060          Maywood Pancake house                      92 W Pleasant Ave   \n",
       "3061                  Porto Leggero  Harborside Financial Center - Plaza 5   \n",
       "\n",
       "                                               Type           City state  \\\n",
       "0       Seafood, Vegetarian Friendly, Vegan Options  San Francisco    CA   \n",
       "1              Diner, American, Vegetarian Friendly     Hackensack    NJ   \n",
       "2              American, Diner, Vegetarian Friendly   Poughkeepsie    NY   \n",
       "3           American, Wine Bar, Vegetarian Friendly          Plano    TX   \n",
       "4                            American, Bar, Seafood       Syracuse    NY   \n",
       "...                                             ...            ...   ...   \n",
       "3057             American, Bar, Vegetarian Friendly       Lynnwood    WA   \n",
       "3058                         American, Bar, Seafood  New York City    NY   \n",
       "3059                       Steakhouse, Italian, Bar       Freehold    NJ   \n",
       "3060   American, Vegan Options, Gluten Free Options        Maywood    NJ   \n",
       "3061    Italian, Vegetarian Friendly, Vegan Options    Jersey City    NJ   \n",
       "\n",
       "        zip_zode  Reviews No of Reviews Price_Range      Cuisine  \n",
       "0     94133-3908      4.5          243     Moderate      Seafood  \n",
       "1     07601-6337      4.0           84     Moderate        Diner  \n",
       "2     12601-5476      4.0          256     Moderate     American  \n",
       "3     75093-7777      4.5          235     Moderate     American  \n",
       "4          13212      4.0          285     Moderate     American  \n",
       "...          ...      ...           ...         ...          ...  \n",
       "3057  98087-3201      4.5          198     Moderate     American  \n",
       "3058       10013      4.5          374     Moderate     American  \n",
       "3059  07728-4801      4.0          211     Moderate   Steakhouse  \n",
       "3060  07607-1336      4.0           87     Moderate     American  \n",
       "3061       07311      4.5          183    Expensive      Italian  \n",
       "\n",
       "[3049 rows x 10 columns]"
      ]
     },
     "execution_count": 21,
     "metadata": {},
     "output_type": "execute_result"
    }
   ],
   "source": [
    "data"
   ]
  },
  {
   "cell_type": "code",
   "execution_count": 22,
   "id": "71c3299b",
   "metadata": {
    "scrolled": true
   },
   "outputs": [],
   "source": [
    "data['No of Reviews']=data['No of Reviews'].str.strip().str.replace(\",\",\"\").astype(int)"
   ]
  },
  {
   "cell_type": "code",
   "execution_count": 23,
   "id": "c53c8740",
   "metadata": {
    "scrolled": true
   },
   "outputs": [
    {
     "name": "stdout",
     "output_type": "stream",
     "text": [
      "<class 'pandas.core.frame.DataFrame'>\n",
      "Int64Index: 3049 entries, 0 to 3061\n",
      "Data columns (total 10 columns):\n",
      " #   Column          Non-Null Count  Dtype  \n",
      "---  ------          --------------  -----  \n",
      " 0   Name            3049 non-null   object \n",
      " 1   Street Address  3049 non-null   object \n",
      " 2   Type            3049 non-null   object \n",
      " 3   City            3049 non-null   object \n",
      " 4   state           3049 non-null   object \n",
      " 5   zip_zode        3025 non-null   object \n",
      " 6   Reviews         3049 non-null   float64\n",
      " 7   No of Reviews   3049 non-null   int32  \n",
      " 8   Price_Range     3049 non-null   object \n",
      " 9   Cuisine         3049 non-null   object \n",
      "dtypes: float64(1), int32(1), object(8)\n",
      "memory usage: 250.1+ KB\n"
     ]
    }
   ],
   "source": [
    "data.info()"
   ]
  },
  {
   "cell_type": "markdown",
   "id": "a9b9070c",
   "metadata": {},
   "source": [
    "# EDA"
   ]
  },
  {
   "cell_type": "markdown",
   "id": "749174d0",
   "metadata": {},
   "source": [
    "# 1. Korelasi Pearson\n",
    "Koefisien korelasi Pearson adalah ukuran korelasi linier antara dua variabel. Nilainya berkisar antara -1 sampai 1, di mana nilai 1 menunjukkan korelasi positif yang sempurna, nilai 0 menunjukkan tidak ada korelasi, dan nilai -1 menunjukkan korelasi negatif yang sempurna."
   ]
  },
  {
   "cell_type": "code",
   "execution_count": 24,
   "id": "b1a1c72a",
   "metadata": {
    "scrolled": true
   },
   "outputs": [
    {
     "name": "stdout",
     "output_type": "stream",
     "text": [
      "Korelasi Pearson: 0.08\n"
     ]
    }
   ],
   "source": [
    "correlation = data['Reviews'].corr(data['No of Reviews'])\n",
    "print(f'Korelasi Pearson: {correlation:.2f}')"
   ]
  },
  {
   "cell_type": "code",
   "execution_count": 26,
   "id": "49531b2c",
   "metadata": {},
   "outputs": [
    {
     "name": "stderr",
     "output_type": "stream",
     "text": [
      "C:\\Users\\zibran\\AppData\\Local\\Temp\\ipykernel_10356\\1756034394.py:1: FutureWarning: The default value of numeric_only in DataFrame.corr is deprecated. In a future version, it will default to False. Select only valid columns or specify the value of numeric_only to silence this warning.\n",
      "  corr_mat=data.corr()\n"
     ]
    },
    {
     "data": {
      "text/plain": [
       "<Axes: >"
      ]
     },
     "execution_count": 26,
     "metadata": {},
     "output_type": "execute_result"
    },
    {
     "data": {
      "image/png": "[encoded data removed]",
      "text/plain": [
       "<Figure size 640x480 with 2 Axes>"
      ]
     },
     "metadata": {},
     "output_type": "display_data"
    }
   ],
   "source": [
    "corr_mat=data.corr()\n",
    "sns.heatmap(corr_mat, annot=True)"
   ]
  },
  {
   "cell_type": "markdown",
   "id": "1d07712f",
   "metadata": {},
   "source": [
    "# insight:\n",
    "berdasarkan korelasi pearson antara Reviews dan no of reviews adalah berkorelasi rendah."
   ]
  },
  {
   "cell_type": "markdown",
   "id": "db49e065",
   "metadata": {},
   "source": [
    "# 2. Distribution Cuisine in Each State"
   ]
  },
  {
   "cell_type": "code",
   "execution_count": 25,
   "id": "4e8a421d",
   "metadata": {
    "scrolled": true
   },
   "outputs": [],
   "source": [
    "type_food=data['Cuisine'].value_counts(normalize=True)\n",
    "food_5=type_food.head()"
   ]
  },
  {
   "cell_type": "code",
   "execution_count": 26,
   "id": "10d44a54",
   "metadata": {
    "scrolled": true
   },
   "outputs": [],
   "source": [
    "prop_data=data[data['Cuisine'].isin(food_5.index)].groupby('state')['Cuisine'].value_counts(normalize=True).unstack().fillna(0)"
   ]
  },
  {
   "cell_type": "code",
   "execution_count": 27,
   "id": "80a4ceea",
   "metadata": {
    "scrolled": true
   },
   "outputs": [
    {
     "data": {
      "text/plain": [
       "<Figure size 1200x800 with 0 Axes>"
      ]
     },
     "metadata": {},
     "output_type": "display_data"
    },
    {
     "data": {
      "image/png": "[encoded data removed]",
      "text/plain": [
       "<Figure size 640x480 with 1 Axes>"
      ]
     },
     "metadata": {},
     "output_type": "display_data"
    }
   ],
   "source": [
    "sns.set(style=\"whitegrid\") \n",
    "\n",
    "plt.figure(figsize=(12, 8))  \n",
    "prop_data.plot(kind='bar',stacked=True)\n",
    "\n",
    "plt.title('Distribution Cuisine in Each State')\n",
    "plt.xlabel('State')\n",
    "plt.ylabel('Prop')\n",
    "plt.legend(title='Jenis Masakan',bbox_to_anchor=(1,1), loc='upper left')\n",
    "\n",
    "plt.show()"
   ]
  },
  {
   "cell_type": "markdown",
   "id": "25cfcfcd",
   "metadata": {},
   "source": [
    "# Insight:\n",
    "Dari setiap negara bagian masakan terpopuler adalah American diikuti Italian"
   ]
  },
  {
   "cell_type": "markdown",
   "id": "c1e49c1a",
   "metadata": {},
   "source": [
    "# 3. Distribution of Ratings to Prices in Restaurants"
   ]
  },
  {
   "cell_type": "code",
   "execution_count": 28,
   "id": "ddf81f97",
   "metadata": {
    "scrolled": true
   },
   "outputs": [
    {
     "data": {
      "image/png": "[encoded data removed]",
      "text/plain": [
       "<Figure size 1000x600 with 1 Axes>"
      ]
     },
     "metadata": {},
     "output_type": "display_data"
    }
   ],
   "source": [
    "plt.figure(figsize=(10, 6))\n",
    "sns.violinplot(x='Reviews', y='Price_Range', data=data)\n",
    "plt.title('Distribution of Ratings to Prices in Restaurants')\n",
    "plt.xlabel('Reviews')\n",
    "plt.ylabel('Price Range')\n",
    "plt.show()"
   ]
  },
  {
   "cell_type": "markdown",
   "id": "c58bc444",
   "metadata": {},
   "source": [
    "# insgiht:\n",
    "Restaurant yang memilki ratings 4.5 adalah yang paling umum di antara rentang harga dan restaurant yang memiliki rating 5.0 terbanyak justru dari harga murah "
   ]
  },
  {
   "cell_type": "markdown",
   "id": "a06e0956",
   "metadata": {},
   "source": [
    "# 4. The most number of restaurant by city"
   ]
  },
  {
   "cell_type": "code",
   "execution_count": 29,
   "id": "bfe8af34",
   "metadata": {
    "scrolled": true
   },
   "outputs": [
    {
     "data": {
      "image/png": "[encoded data removed]",
      "text/plain": [
       "<Figure size 1000x600 with 1 Axes>"
      ]
     },
     "metadata": {},
     "output_type": "display_data"
    }
   ],
   "source": [
    "top_cities = data['City'].value_counts()[:10]\n",
    "\n",
    "plt.figure(figsize=(10, 6))\n",
    "top_cities.plot(kind='bar', color='orange')\n",
    "plt.title('Top 10 Cities with Most Restaurants')\n",
    "plt.xlabel('City')\n",
    "plt.ylabel('Number of Restaurants')\n",
    "plt.xticks(rotation=45)\n",
    "plt.tight_layout()\n",
    "plt.show()"
   ]
  },
  {
   "cell_type": "markdown",
   "id": "0b8809b5",
   "metadata": {},
   "source": [
    "# insight:\n",
    "dari semua kota, New York City ialah kota yang memiliki restaurant terbanyak pada dataset ini"
   ]
  },
  {
   "cell_type": "markdown",
   "id": "5e433a17",
   "metadata": {},
   "source": [
    "# 5.state by number of restaurant"
   ]
  },
  {
   "cell_type": "code",
   "execution_count": 30,
   "id": "0ddabc59",
   "metadata": {},
   "outputs": [
    {
     "data": {
      "image/png": "[encoded data removed]",
      "text/plain": [
       "<Figure size 1200x800 with 1 Axes>"
      ]
     },
     "metadata": {},
     "output_type": "display_data"
    }
   ],
   "source": [
    "data['state'].value_counts().plot(kind='bar',figsize=(12,8),color='orange')\n",
    "plt.show()"
   ]
  },
  {
   "cell_type": "code",
   "execution_count": 31,
   "id": "8f820aee",
   "metadata": {},
   "outputs": [
    {
     "data": {
      "text/plain": [
       "NY         649\n",
       "TX         612\n",
       "WA         595\n",
       "CA         569\n",
       "NJ         528\n",
       "Greater     32\n",
       "Long        31\n",
       "Whidbey     11\n",
       "PA           9\n",
       "San          8\n",
       "OR           2\n",
       "Haddon       2\n",
       "Ontario      1\n",
       "Name: state, dtype: int64"
      ]
     },
     "execution_count": 31,
     "metadata": {},
     "output_type": "execute_result"
    }
   ],
   "source": [
    "data['state'].value_counts()"
   ]
  },
  {
   "cell_type": "markdown",
   "id": "4c5f2bef",
   "metadata": {},
   "source": [
    "# insight:\n",
    "jumlah restaurant terbanyak ialah Newyork dan\n",
    "jumlah restaurant terendah ialah Ontario"
   ]
  },
  {
   "cell_type": "markdown",
   "id": "c567b415",
   "metadata": {},
   "source": [
    "# Kesimpulan\n",
    "1. Review dan jumlah review memiliki korelasi yang rendah, menunjukkan bahwa keduanya tidak terkait erat.\n",
    "2. Masakan American menjadi pilihan favorit di setiap negara bagian, diikuti dengan dekat oleh cita rasa menggugah dari Italia.\n",
    "3. Restoran dengan rating 4,5 mendominasi kisaran harga, sedangkan restoran dengan rating 5,0 sebagian besar merupakan restoran murah\n",
    "4. Newyork masih paling banyak restaurant berdasarkan kota dan negara bagian\n",
    "5. Ontario adalah negara bagian yang memiliki restaurant paling sedikit"
   ]
  },
  {
   "cell_type": "markdown",
   "id": "d45e9e4e",
   "metadata": {},
   "source": [
    "# Rekomendasi\n",
    "1. Tawarkan hidangan makanan Amerika dan Italia yang mencerminkan citarasa khas keduanya.\n",
    "2. Fokus pada perbaikan dan promosi restoran dengan rating 4.5, mengingat popularitasnya di berbagai rentang harga.\n",
    "3. Tingkatkan ekspansi, promosi, dan pengembangan bisnis di New York.\n",
    "4. Potensi Pertumbuhan di Ontario: Pertimbangkan strategi spesifik untuk menarik pasar Ontario.\n",
    "5. Berdasarkan hasil korelasi, prioritaskan faktor lainnya seperti makanan, layanan, dan inovasi menu untuk meningkatkan rating dan popularitas restoran."
   ]
  },
  {
   "cell_type": "code",
   "execution_count": 32,
   "id": "3a7aa4e8",
   "metadata": {},
   "outputs": [],
   "source": [
    "data.to_csv(\"Analisis_advisor.csv\",index=False)"
   ]
  }
 ],
 "metadata": {
  "kernelspec": {
   "display_name": "Python 3 (ipykernel)",
   "language": "python",
   "name": "python3"
  },
  "language_info": {
   "codemirror_mode": {
    "name": "ipython",
    "version": 3
   },
   "file_extension": ".py",
   "mimetype": "text/x-python",
   "name": "python",
   "nbconvert_exporter": "python",
   "pygments_lexer": "ipython3",
   "version": "3.10.9"
  }
 },
 "nbformat": 4,
 "nbformat_minor": 5
}
